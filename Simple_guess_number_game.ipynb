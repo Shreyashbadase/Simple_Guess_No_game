{
  "nbformat": 4,
  "nbformat_minor": 0,
  "metadata": {
    "colab": {
      "name": "Simple_guess_number_game.ipynb",
      "provenance": [],
      "authorship_tag": "ABX9TyOYmYJPOA89ElmIk4ZaMchV",
      "include_colab_link": true
    },
    "kernelspec": {
      "name": "python3",
      "display_name": "Python 3"
    },
    "language_info": {
      "name": "python"
    }
  },
  "cells": [
    {
      "cell_type": "markdown",
      "metadata": {
        "id": "view-in-github",
        "colab_type": "text"
      },
      "source": [
        "<a href=\"https://colab.research.google.com/github/Shreyashbadase/Simple_Guess_No_game/blob/main/Simple_guess_number_game.ipynb\" target=\"_parent\"><img src=\"https://colab.research.google.com/assets/colab-badge.svg\" alt=\"Open In Colab\"/></a>"
      ]
    },
    {
      "cell_type": "markdown",
      "source": [
        "# **Simple Guess Number Game**"
      ],
      "metadata": {
        "id": "qrWbQL2Ln1Nc"
      }
    },
    {
      "cell_type": "code",
      "source": [
        "import random\n",
        "\n",
        "win_no=random.randint(1, 100)\n",
        "guess=1\n",
        "num=int(input (\"guess no between 1 to 100 : \"))\n",
        "game_over= False\n",
        "\n",
        "while not game_over:\n",
        "  if num == win_no:\n",
        "     print (f\"you win,guess number {guess} times\")\n",
        "     game_over= True\n",
        "     break\n",
        "  else:\n",
        "     if num < win_no :\n",
        "        print (\"to low\")\n",
        "     else:\n",
        "        print (\"to high\")\n",
        "     guess+=1\n",
        "     num=int(input (\"guess no : \"))"
      ],
      "metadata": {
        "id": "dGt7mHF7piWQ",
        "colab": {
          "base_uri": "https://localhost:8080/"
        },
        "outputId": "35975975-207f-4f77-f2c1-25e6e6dc1599"
      },
      "execution_count": 19,
      "outputs": [
        {
          "output_type": "stream",
          "name": "stdout",
          "text": [
            "guess no between 1 to 100 : 54\n",
            "you win,guess number 1 times\n"
          ]
        }
      ]
    }
  ]
}